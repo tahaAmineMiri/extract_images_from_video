{
 "cells": [
  {
   "cell_type": "code",
   "execution_count": null,
   "metadata": {},
   "outputs": [
    {
     "name": "stdout",
     "output_type": "stream",
     "text": [
      "Collecting imagehash\n",
      "  Downloading ImageHash-4.3.1-py2.py3-none-any.whl (296 kB)\n",
      "     ---------------------------------------- 0.0/296.5 kB ? eta -:--:--\n",
      "     ---- ---------------------------------- 30.7/296.5 kB 1.3 MB/s eta 0:00:01\n",
      "     ------------- ------------------------ 102.4/296.5 kB 1.5 MB/s eta 0:00:01\n",
      "     ------------------------------ ------- 235.5/296.5 kB 2.0 MB/s eta 0:00:01\n",
      "     -------------------------------------- 296.5/296.5 kB 1.8 MB/s eta 0:00:00\n",
      "Requirement already satisfied: numpy in c:\\users\\hp\\appdata\\local\\programs\\python\\python310\\lib\\site-packages (from imagehash) (1.26.2)\n",
      "Requirement already satisfied: scipy in c:\\users\\hp\\appdata\\local\\programs\\python\\python310\\lib\\site-packages (from imagehash) (1.14.1)\n",
      "Requirement already satisfied: pillow in c:\\users\\hp\\appdata\\local\\programs\\python\\python310\\lib\\site-packages (from imagehash) (10.1.0)\n",
      "Collecting PyWavelets\n",
      "  Downloading pywavelets-1.7.0-cp310-cp310-win_amd64.whl (4.3 MB)\n",
      "     ---------------------------------------- 0.0/4.3 MB ? eta -:--:--\n",
      "      --------------------------------------- 0.1/4.3 MB ? eta -:--:--\n",
      "     ----- ---------------------------------- 0.6/4.3 MB 9.3 MB/s eta 0:00:01\n",
      "     ------- -------------------------------- 0.8/4.3 MB 5.7 MB/s eta 0:00:01\n",
      "     -------- ------------------------------- 0.9/4.3 MB 5.8 MB/s eta 0:00:01\n",
      "     ---------- ----------------------------- 1.2/4.3 MB 5.2 MB/s eta 0:00:01\n",
      "     ----------- ---------------------------- 1.3/4.3 MB 5.0 MB/s eta 0:00:01\n",
      "     -------------- ------------------------- 1.6/4.3 MB 5.2 MB/s eta 0:00:01\n",
      "     ----------------- ---------------------- 1.8/4.3 MB 5.1 MB/s eta 0:00:01\n",
      "     ----------------- ---------------------- 1.8/4.3 MB 5.1 MB/s eta 0:00:01\n",
      "     --------------------- ------------------ 2.3/4.3 MB 5.3 MB/s eta 0:00:01\n",
      "     ----------------------- ---------------- 2.5/4.3 MB 5.1 MB/s eta 0:00:01\n",
      "     ----------------------- ---------------- 2.5/4.3 MB 5.2 MB/s eta 0:00:01\n",
      "     --------------------------- ------------ 2.9/4.3 MB 5.0 MB/s eta 0:00:01\n",
      "     ---------------------------- ----------- 3.0/4.3 MB 4.8 MB/s eta 0:00:01\n",
      "     ----------------------------- ---------- 3.2/4.3 MB 4.7 MB/s eta 0:00:01\n",
      "     ------------------------------ --------- 3.3/4.3 MB 4.6 MB/s eta 0:00:01\n",
      "     -------------------------------- ------- 3.4/4.3 MB 4.5 MB/s eta 0:00:01\n",
      "     --------------------------------- ------ 3.6/4.3 MB 4.4 MB/s eta 0:00:01\n",
      "     ---------------------------------- ----- 3.7/4.3 MB 4.4 MB/s eta 0:00:01\n",
      "     ----------------------------------- ---- 3.8/4.3 MB 4.3 MB/s eta 0:00:01\n",
      "     ------------------------------------ --- 3.9/4.3 MB 4.3 MB/s eta 0:00:01\n",
      "     ------------------------------------- -- 4.0/4.3 MB 4.1 MB/s eta 0:00:01\n",
      "     ---------------------------------------  4.2/4.3 MB 4.1 MB/s eta 0:00:01\n",
      "     ---------------------------------------  4.2/4.3 MB 4.0 MB/s eta 0:00:01\n",
      "     ---------------------------------------  4.2/4.3 MB 4.0 MB/s eta 0:00:01\n",
      "     ---------------------------------------- 4.3/4.3 MB 3.8 MB/s eta 0:00:00\n",
      "Installing collected packages: PyWavelets, imagehash\n",
      "Successfully installed PyWavelets-1.7.0 imagehash-4.3.1\n",
      "Note: you may need to restart the kernel to use updated packages.\n"
     ]
    },
    {
     "name": "stderr",
     "output_type": "stream",
     "text": [
      "\n",
      "[notice] A new release of pip is available: 23.0.1 -> 24.3.1\n",
      "[notice] To update, run: python.exe -m pip install --upgrade pip\n"
     ]
    }
   ],
   "source": [
    "# %pip install opencv-python\n",
    "# %pip install imagehash"
   ]
  },
  {
   "cell_type": "code",
   "execution_count": 8,
   "metadata": {},
   "outputs": [],
   "source": [
    "import os\n",
    "import cv2\n",
    "import imagehash\n",
    "from PIL import Image\n",
    "import sys\n",
    "\n",
    "SIMILARITY_TOLERANCE = 8  # Threshold for duplicate detection"
   ]
  },
  {
   "cell_type": "code",
   "execution_count": 9,
   "metadata": {},
   "outputs": [],
   "source": [
    "def print_progress(percentage):\n",
    "    \"\"\"Prints a progress bar for frame extraction.\"\"\"\n",
    "    sys.stdout.write(\"\\r[\")\n",
    "    for i in range(100):\n",
    "        sys.stdout.write(\"#\" if i <= percentage else \" \")\n",
    "    sys.stdout.write(f\"] {percentage}%\")\n",
    "    sys.stdout.flush()\n",
    "\n",
    "\n",
    "class FrameProcessor:\n",
    "    def __init__(self, video_path, output_dir):\n",
    "        self.video_path = video_path\n",
    "        self.output_dir = output_dir\n",
    "        self.phash_dict = {}\n",
    "\n",
    "    def get_frame_phash(self, frame):\n",
    "        \"\"\"Compute perceptual hash of a grayscale frame.\"\"\"\n",
    "        frame_pil = Image.fromarray(cv2.cvtColor(frame, cv2.COLOR_BGR2GRAY))\n",
    "        return imagehash.phash(frame_pil)\n",
    "\n",
    "    def save_if_unique(self, frame, frame_count):\n",
    "        \"\"\"Save the frame if it is unique compared to previous frames.\"\"\"\n",
    "        phash = self.get_frame_phash(frame)\n",
    "        for existing_phash in self.phash_dict:\n",
    "            if phash - existing_phash <= SIMILARITY_TOLERANCE:\n",
    "                return frame_count\n",
    "\n",
    "        # Save unique frame\n",
    "        frame_path = os.path.join(self.output_dir, f\"frame_{frame_count:04d}.jpg\")\n",
    "        cv2.imwrite(frame_path, frame)\n",
    "        self.phash_dict[phash] = frame_path\n",
    "        return frame_count + 1\n",
    "\n",
    "    def extract_frames(self):\n",
    "        \"\"\"Process video to extract unique frames.\"\"\"\n",
    "        cap = cv2.VideoCapture(self.video_path)\n",
    "        if not cap.isOpened():\n",
    "            print(\"Error: Unable to open video.\")\n",
    "            return 0\n",
    "\n",
    "        total_frames = int(cap.get(cv2.CAP_PROP_FRAME_COUNT))\n",
    "        frame_count, saved_count, percentage = 0, 0, 0\n",
    "\n",
    "        while True:\n",
    "            ret, frame = cap.read()\n",
    "            if not ret:\n",
    "                break\n",
    "\n",
    "            saved_count = self.save_if_unique(frame, saved_count)\n",
    "\n",
    "            frame_count += 1\n",
    "            new_percentage = int((frame_count / total_frames) * 100)\n",
    "            if new_percentage != percentage:\n",
    "                print_progress(new_percentage)\n",
    "                percentage = new_percentage\n",
    "\n",
    "        cap.release()\n",
    "        cv2.destroyAllWindows()\n",
    "        print(\"\\nExtraction complete.\")\n",
    "        return saved_count"
   ]
  },
  {
   "cell_type": "code",
   "execution_count": 10,
   "metadata": {},
   "outputs": [
    {
     "name": "stdout",
     "output_type": "stream",
     "text": [
      "\n",
      "Processing video...\n",
      "\n",
      "[####################################################################################################] 100%####################                                                                               ] 20%############################################                                                        ] 43%################################################                                                    ] 47%##################################################                                                  ] 49%#############################################################                                       ] 60%##############################################################                                      ] 61%#####################################################################                               ] 68%#########################################################################                           ] 72%###########################################################################                         ] 74%################################################################################################    ] 95%\n",
      "Extraction complete.\n",
      "\n",
      "Extraction complete. 122 unique frames saved to './output'.\n"
     ]
    }
   ],
   "source": [
    "def main():\n",
    "    # Hardcoded paths\n",
    "    video_path = \"./Solution.mp4\"  # Replace with the path to your video\n",
    "    output_dir = \"./output\"  # Replace with your desired output folder\n",
    "\n",
    "    # Create output directory if it doesn't exist\n",
    "    os.makedirs(output_dir, exist_ok=True)\n",
    "\n",
    "    print(\"\\nProcessing video...\\n\")\n",
    "    processor = FrameProcessor(video_path, output_dir)\n",
    "    extracted_count = processor.extract_frames()\n",
    "\n",
    "    if extracted_count > 0:\n",
    "        print(f\"\\nExtraction complete. {extracted_count} unique frames saved to '{output_dir}'.\")\n",
    "    else:\n",
    "        print(\"No unique frames were extracted.\")\n",
    "\n",
    "\n",
    "if __name__ == \"__main__\":\n",
    "    main()\n"
   ]
  }
 ],
 "metadata": {
  "kernelspec": {
   "display_name": "Python 3",
   "language": "python",
   "name": "python3"
  },
  "language_info": {
   "codemirror_mode": {
    "name": "ipython",
    "version": 3
   },
   "file_extension": ".py",
   "mimetype": "text/x-python",
   "name": "python",
   "nbconvert_exporter": "python",
   "pygments_lexer": "ipython3",
   "version": "3.10.11"
  }
 },
 "nbformat": 4,
 "nbformat_minor": 2
}
